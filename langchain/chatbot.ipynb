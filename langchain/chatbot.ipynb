{
 "cells": [
  {
   "cell_type": "code",
   "execution_count": 4,
   "metadata": {},
   "outputs": [
    {
     "data": {
      "text/plain": [
       "True"
      ]
     },
     "execution_count": 4,
     "metadata": {},
     "output_type": "execute_result"
    }
   ],
   "source": [
    "import os\n",
    "from dotenv import load_dotenv\n",
    "load_dotenv()"
   ]
  },
  {
   "cell_type": "code",
   "execution_count": 5,
   "metadata": {},
   "outputs": [],
   "source": [
    "from langchain_groq import ChatGroq\n",
    "model = ChatGroq(model=\"Gemma2-9b-it\", groq_api_key=os.getenv(\"GROQ_API_KEY\"))"
   ]
  },
  {
   "cell_type": "code",
   "execution_count": 6,
   "metadata": {},
   "outputs": [
    {
     "data": {
      "text/plain": [
       "AIMessage(content=\"And I am Gemma, your friendly AI assistant. \\n\\nIt's a pleasure to meet you, Mr. Bond. How can I be of service today?  \\n\\nShaken, not stirred? 😉 \\n\\n\", additional_kwargs={}, response_metadata={'token_usage': {'completion_tokens': 47, 'prompt_tokens': 19, 'total_tokens': 66, 'completion_time': 0.085454545, 'prompt_time': 9.136e-05, 'queue_time': 0.02222178, 'total_time': 0.085545905}, 'model_name': 'Gemma2-9b-it', 'system_fingerprint': 'fp_10c08bf97d', 'finish_reason': 'stop', 'logprobs': None}, id='run-724f29fb-7985-4cfe-8ac1-a6f837aec50f-0', usage_metadata={'input_tokens': 19, 'output_tokens': 47, 'total_tokens': 66})"
      ]
     },
     "execution_count": 6,
     "metadata": {},
     "output_type": "execute_result"
    }
   ],
   "source": [
    "from langchain_core.messages import HumanMessage\n",
    "\n",
    "model.invoke([HumanMessage(content=\"Hi, My name is Bond, James Bond.\")])"
   ]
  },
  {
   "cell_type": "code",
   "execution_count": 7,
   "metadata": {},
   "outputs": [
    {
     "data": {
      "text/plain": [
       "AIMessage(content=\"Mr. Bond, James Bond, at your service.  \\n\\nYou are a highly skilled secret agent working for Her Majesty's Secret Service. You're known for your suave demeanor, impeccable taste, and ability to handle any situation, no matter how perilous.  \\n\\nThink of it this way,  you're the best there is at what you do, but what you do just happens to be illegal. 😉  \\n\\n\\n\\nAnything else you'd like to know, 007?  \\n\\n\", additional_kwargs={}, response_metadata={'token_usage': {'completion_tokens': 106, 'prompt_tokens': 105, 'total_tokens': 211, 'completion_time': 0.192727273, 'prompt_time': 0.003386275, 'queue_time': 0.020208192, 'total_time': 0.196113548}, 'model_name': 'Gemma2-9b-it', 'system_fingerprint': 'fp_10c08bf97d', 'finish_reason': 'stop', 'logprobs': None}, id='run-2b1a5c9f-cfc2-43e4-b074-bb43bf5d384d-0', usage_metadata={'input_tokens': 105, 'output_tokens': 106, 'total_tokens': 211})"
      ]
     },
     "execution_count": 7,
     "metadata": {},
     "output_type": "execute_result"
    }
   ],
   "source": [
    "from langchain_core.messages import AIMessage\n",
    "\n",
    "model.invoke([\n",
    "    HumanMessage(content=\"Hi, My name is Bond, James Bond.\"),\n",
    "    AIMessage(content=\"Ah, Mr. Bond.  A pleasure to make your acquaintance.  What can I do for you today?  \\n\\nIs there a dangerous mission you require assistance with, perhaps? Or are you simply looking for a martini, shaken, not stirred? 🍸😉  \\n\\nI'm at your service. \\n\\n\"),\n",
    "    HumanMessage(content=\"What's my name and what do I do?\"),\n",
    "])"
   ]
  },
  {
   "cell_type": "code",
   "execution_count": 8,
   "metadata": {},
   "outputs": [],
   "source": [
    "## Message history\n",
    "# Use the message history class to wrap the model and make it stateful\n",
    "\n",
    "from langchain_community.chat_message_histories import ChatMessageHistory\n",
    "from langchain_core.chat_history import BaseChatMessageHistory\n",
    "from langchain_core.runnables.history import RunnableWithMessageHistory\n",
    "\n",
    "store = {}\n",
    "def get_session_history(session_id: str) -> BaseChatMessageHistory:\n",
    "    if session_id not in store:\n",
    "        store[session_id] = ChatMessageHistory()\n",
    "    return store[session_id]\n",
    "\n",
    "with_message_history = RunnableWithMessageHistory(model, get_session_history)"
   ]
  },
  {
   "cell_type": "code",
   "execution_count": 9,
   "metadata": {},
   "outputs": [],
   "source": [
    "config = {\"configurable\": {\"session_id\": \"chat1\"}}"
   ]
  },
  {
   "cell_type": "code",
   "execution_count": 10,
   "metadata": {},
   "outputs": [
    {
     "data": {
      "text/plain": [
       "AIMessage(content=\"Ah, Mr. Bond. A pleasure to make your acquaintance. \\n\\nWhat can I do for you today?  Shall we discuss martinis, exotic locales, or perhaps the latest nefarious plot to take over the world?  Just don't expect me to crack any codes - I'm more of a conversationalist than a cryptographer. 😉  \\n\\n\", additional_kwargs={}, response_metadata={'token_usage': {'completion_tokens': 77, 'prompt_tokens': 19, 'total_tokens': 96, 'completion_time': 0.14, 'prompt_time': 7.631e-05, 'queue_time': 0.021099307, 'total_time': 0.14007631}, 'model_name': 'Gemma2-9b-it', 'system_fingerprint': 'fp_10c08bf97d', 'finish_reason': 'stop', 'logprobs': None}, id='run-31ff55f2-1b99-4057-83f3-17690bb93f2d-0', usage_metadata={'input_tokens': 19, 'output_tokens': 77, 'total_tokens': 96})"
      ]
     },
     "execution_count": 10,
     "metadata": {},
     "output_type": "execute_result"
    }
   ],
   "source": [
    "response = with_message_history.invoke([\n",
    "    HumanMessage(content=\"Hi, My name is Bond, James Bond.\"),\n",
    "    ], config)\n",
    "response"
   ]
  },
  {
   "cell_type": "code",
   "execution_count": 11,
   "metadata": {},
   "outputs": [
    {
     "data": {
      "text/plain": [
       "AIMessage(content=\"You are, of course, the suave and sophisticated James Bond, a secret agent working for Her Majesty's Secret Service. \\n\\nYou are renowned for your impeccable taste in suits, your skill with a variety of weapons, and your ability to charm even the most dangerous villains.  \\n\\nAnything else you'd like to know about yourself, Mr. Bond? Perhaps your latest mission? 🕵️\\u200d♂️🍸  \\n\\n\\n\\n\\n\", additional_kwargs={}, response_metadata={'token_usage': {'completion_tokens': 88, 'prompt_tokens': 114, 'total_tokens': 202, 'completion_time': 0.16, 'prompt_time': 0.003640534, 'queue_time': 0.022096625999999998, 'total_time': 0.163640534}, 'model_name': 'Gemma2-9b-it', 'system_fingerprint': 'fp_10c08bf97d', 'finish_reason': 'stop', 'logprobs': None}, id='run-e6105e02-cc63-4611-9542-73d27e68c62a-0', usage_metadata={'input_tokens': 114, 'output_tokens': 88, 'total_tokens': 202})"
      ]
     },
     "execution_count": 11,
     "metadata": {},
     "output_type": "execute_result"
    }
   ],
   "source": [
    "with_message_history.invoke([\n",
    "    HumanMessage(content=\"What's my name and what do I do?\"),\n",
    "    ], config)"
   ]
  },
  {
   "cell_type": "code",
   "execution_count": 12,
   "metadata": {},
   "outputs": [
    {
     "data": {
      "text/plain": [
       "AIMessage(content=\"As an AI, I have no memory of past conversations and do not know your name or what you do.\\n\\nIf you'd like to tell me, I'm happy to learn! 😊\\n\", additional_kwargs={}, response_metadata={'token_usage': {'completion_tokens': 43, 'prompt_tokens': 20, 'total_tokens': 63, 'completion_time': 0.078181818, 'prompt_time': 9.436e-05, 'queue_time': 0.019739178, 'total_time': 0.078276178}, 'model_name': 'Gemma2-9b-it', 'system_fingerprint': 'fp_10c08bf97d', 'finish_reason': 'stop', 'logprobs': None}, id='run-1042a6e8-72fa-460e-8ce3-7ab6a1b0d9c5-0', usage_metadata={'input_tokens': 20, 'output_tokens': 43, 'total_tokens': 63})"
      ]
     },
     "execution_count": 12,
     "metadata": {},
     "output_type": "execute_result"
    }
   ],
   "source": [
    "with_message_history.invoke([\n",
    "    HumanMessage(content=\"What's my name and what do I do?\"),\n",
    "    ], {\"configurable\": {\"session_id\": \"chat2\"}})"
   ]
  },
  {
   "cell_type": "code",
   "execution_count": 13,
   "metadata": {},
   "outputs": [],
   "source": [
    "from langchain_core.prompts import ChatPromptTemplate, MessagesPlaceholder\n",
    "\n",
    "prompt = ChatPromptTemplate.from_messages([\n",
    "    (\"system\", \"You are a helpful assistant, answer all the questions to the best of your ability in {language}.\"),\n",
    "    MessagesPlaceholder(variable_name=\"messages\") # This is for the messages place holder\n",
    "])\n",
    "\n",
    "chain = prompt|model"
   ]
  },
  {
   "cell_type": "code",
   "execution_count": 14,
   "metadata": {},
   "outputs": [
    {
     "data": {
      "text/plain": [
       "AIMessage(content=\"Hello Mr. Bond, a pleasure to make your acquaintance.  \\n\\nWhat can I do for you today?  I'm at your service.  \\n\\n\", additional_kwargs={}, response_metadata={'token_usage': {'completion_tokens': 35, 'prompt_tokens': 38, 'total_tokens': 73, 'completion_time': 0.063636364, 'prompt_time': 0.000324279, 'queue_time': 0.0216287, 'total_time': 0.063960643}, 'model_name': 'Gemma2-9b-it', 'system_fingerprint': 'fp_10c08bf97d', 'finish_reason': 'stop', 'logprobs': None}, id='run-85159ef0-2009-4011-9c46-1a852880f98b-0', usage_metadata={'input_tokens': 38, 'output_tokens': 35, 'total_tokens': 73})"
      ]
     },
     "execution_count": 14,
     "metadata": {},
     "output_type": "execute_result"
    }
   ],
   "source": [
    "chain.invoke({\"messages\" : [HumanMessage(\"Hi, My name is Bond, James Bond.\")], \"language\": \"English\"})"
   ]
  },
  {
   "cell_type": "code",
   "execution_count": 15,
   "metadata": {},
   "outputs": [],
   "source": [
    "with_message_history = RunnableWithMessageHistory(chain, get_session_history, input_messages_key=\"messages\")\n",
    "config = {\"configurable\": {\"session_id\": \"chat5\"}}"
   ]
  },
  {
   "cell_type": "code",
   "execution_count": 16,
   "metadata": {},
   "outputs": [
    {
     "data": {
      "text/plain": [
       "AIMessage(content='வணக்கம், Mr. Bond!  \\n\\nஎன்னைப் பற்றி என்னை கேட்கிறீர்களா? நான் Google DeepMind இல் பயிற்சி பெற்ற ஒரு மொழி மாதிரி. தமிழ் உள்ளிட்ட பல்வேறு மொழிகளிலும் உங்களுக்கு உதவ முடியும். \\n\\nஎன்னுடைய உதவியைத் தேவைப்படுகிறீர்களா? 😊  \\n\\n', additional_kwargs={}, response_metadata={'token_usage': {'completion_tokens': 103, 'prompt_tokens': 38, 'total_tokens': 141, 'completion_time': 0.187272727, 'prompt_time': 0.000301589, 'queue_time': 0.019158988999999998, 'total_time': 0.187574316}, 'model_name': 'Gemma2-9b-it', 'system_fingerprint': 'fp_10c08bf97d', 'finish_reason': 'stop', 'logprobs': None}, id='run-38951596-f27d-44ed-bca9-e0ef41202ac8-0', usage_metadata={'input_tokens': 38, 'output_tokens': 103, 'total_tokens': 141})"
      ]
     },
     "execution_count": 16,
     "metadata": {},
     "output_type": "execute_result"
    }
   ],
   "source": [
    "with_message_history.invoke({\"messages\" : [HumanMessage(\"Hi, My name is Bond, James Bond.\")], \"language\": \"Tamil\"} , config=config)"
   ]
  },
  {
   "cell_type": "code",
   "execution_count": 33,
   "metadata": {},
   "outputs": [
    {
     "data": {
      "text/plain": [
       "[SystemMessage(content=\"you're a good assistant\", additional_kwargs={}, response_metadata={}),\n",
       " HumanMessage(content=\"hi! I'm bob\", additional_kwargs={}, response_metadata={}),\n",
       " AIMessage(content='hi!', additional_kwargs={}, response_metadata={}),\n",
       " HumanMessage(content='I like vanilla ice cream', additional_kwargs={}, response_metadata={}),\n",
       " AIMessage(content='nice', additional_kwargs={}, response_metadata={}),\n",
       " HumanMessage(content='whats 2 + 2', additional_kwargs={}, response_metadata={}),\n",
       " AIMessage(content='4', additional_kwargs={}, response_metadata={}),\n",
       " HumanMessage(content='thanks', additional_kwargs={}, response_metadata={}),\n",
       " AIMessage(content='no problem!', additional_kwargs={}, response_metadata={}),\n",
       " HumanMessage(content='having fun?', additional_kwargs={}, response_metadata={}),\n",
       " AIMessage(content='yes!', additional_kwargs={}, response_metadata={})]"
      ]
     },
     "execution_count": 33,
     "metadata": {},
     "output_type": "execute_result"
    }
   ],
   "source": [
    "## Conversation history\n",
    "from langchain_core.messages import SystemMessage, trim_messages # helper to reduce the number of tokens to keep.\n",
    "trimmer = trim_messages(max_tokens=70, strategy=\"last\", token_counter=model, include_system=True, allow_partial=True, start_on=\"human\")\n",
    "\n",
    "messages = [\n",
    "    SystemMessage(content=\"you're a good assistant\"),\n",
    "    HumanMessage(content=\"hi! I'm bob\"),\n",
    "    AIMessage(content=\"hi!\"),\n",
    "    HumanMessage(content=\"I like vanilla ice cream\"),\n",
    "    AIMessage(content=\"nice\"),\n",
    "    HumanMessage(content=\"whats 2 + 2\"),\n",
    "    AIMessage(content=\"4\"),\n",
    "    HumanMessage(content=\"thanks\"),\n",
    "    AIMessage(content=\"no problem!\"),\n",
    "    HumanMessage(content=\"having fun?\"),\n",
    "    AIMessage(content=\"yes!\"),\n",
    "]\n",
    "trimmer.invoke(messages)\n"
   ]
  },
  {
   "cell_type": "code",
   "execution_count": 34,
   "metadata": {},
   "outputs": [],
   "source": [
    "from operator import itemgetter\n",
    "from langchain_core.runnables import RunnablePassthrough\n",
    "\n",
    "chain = (\n",
    "    RunnablePassthrough.assign(messages=itemgetter(\"messages\") | trimmer) |\n",
    "    prompt |\n",
    "    model\n",
    "\n",
    ")"
   ]
  },
  {
   "cell_type": "code",
   "execution_count": null,
   "metadata": {},
   "outputs": [
    {
     "data": {
      "text/plain": [
       "AIMessage(content='You said you like vanilla ice cream! 😊  \\n', additional_kwargs={}, response_metadata={'token_usage': {'completion_tokens': 13, 'prompt_tokens': 122, 'total_tokens': 135, 'completion_time': 0.023636364, 'prompt_time': 0.004923149, 'queue_time': 0.018601887999999997, 'total_time': 0.028559513}, 'model_name': 'Gemma2-9b-it', 'system_fingerprint': 'fp_10c08bf97d', 'finish_reason': 'stop', 'logprobs': None}, id='run-f6a8e925-d245-498c-b8b3-1b2f8efea953-0', usage_metadata={'input_tokens': 122, 'output_tokens': 13, 'total_tokens': 135})"
      ]
     },
     "execution_count": 35,
     "metadata": {},
     "output_type": "execute_result"
    }
   ],
   "source": [
    "chain.invoke({\"messages\" : messages + [HumanMessage(content=\"What ice cream do I like?\")],\n",
    "            \"language\":\"English\"})"
   ]
  },
  {
   "cell_type": "code",
   "execution_count": 36,
   "metadata": {},
   "outputs": [
    {
     "data": {
      "text/plain": [
       "AIMessage(content='You asked \"What is 2 + 2?\"\\n', additional_kwargs={}, response_metadata={'token_usage': {'completion_tokens': 14, 'prompt_tokens': 122, 'total_tokens': 136, 'completion_time': 0.025454545, 'prompt_time': 0.003743323, 'queue_time': 0.021096786, 'total_time': 0.029197868}, 'model_name': 'Gemma2-9b-it', 'system_fingerprint': 'fp_10c08bf97d', 'finish_reason': 'stop', 'logprobs': None}, id='run-80d34271-1885-4143-8352-9cab644bae94-0', usage_metadata={'input_tokens': 122, 'output_tokens': 14, 'total_tokens': 136})"
      ]
     },
     "execution_count": 36,
     "metadata": {},
     "output_type": "execute_result"
    }
   ],
   "source": [
    "chain.invoke({\"messages\" : messages + [HumanMessage(content=\"What math problem did I ask?\")],\n",
    "            \"language\":\"English\"})"
   ]
  },
  {
   "cell_type": "code",
   "execution_count": 37,
   "metadata": {},
   "outputs": [],
   "source": [
    "# Let's wrap this with message history\n",
    "with_message_history = RunnableWithMessageHistory(chain, get_session_history, input_messages_key=\"messages\")"
   ]
  },
  {
   "cell_type": "code",
   "execution_count": 39,
   "metadata": {},
   "outputs": [
    {
     "data": {
      "text/plain": [
       "AIMessage(content='You said your name is Bob! 😊  \\n\\n\\n\\n', additional_kwargs={}, response_metadata={'token_usage': {'completion_tokens': 12, 'prompt_tokens': 113, 'total_tokens': 125, 'completion_time': 0.021818182, 'prompt_time': 0.003544354, 'queue_time': 0.021927665, 'total_time': 0.025362536}, 'model_name': 'Gemma2-9b-it', 'system_fingerprint': 'fp_10c08bf97d', 'finish_reason': 'stop', 'logprobs': None}, id='run-e99c8cd3-a289-4881-9fd8-043249de53e6-0', usage_metadata={'input_tokens': 113, 'output_tokens': 12, 'total_tokens': 125})"
      ]
     },
     "execution_count": 39,
     "metadata": {},
     "output_type": "execute_result"
    }
   ],
   "source": [
    "with_message_history.invoke({\n",
    "    \"messages\" : messages + [HumanMessage(content=\"What is my name?\")],\n",
    "    \"language\" : \"French\"},\n",
    "    config = {\"configurable\": {\"session_id\": \"chat2\"}\n",
    "              })"
   ]
  },
  {
   "cell_type": "code",
   "execution_count": null,
   "metadata": {},
   "outputs": [],
   "source": []
  }
 ],
 "metadata": {
  "kernelspec": {
   "display_name": "langenv",
   "language": "python",
   "name": "python3"
  },
  "language_info": {
   "codemirror_mode": {
    "name": "ipython",
    "version": 3
   },
   "file_extension": ".py",
   "mimetype": "text/x-python",
   "name": "python",
   "nbconvert_exporter": "python",
   "pygments_lexer": "ipython3",
   "version": "3.10.9"
  }
 },
 "nbformat": 4,
 "nbformat_minor": 2
}
